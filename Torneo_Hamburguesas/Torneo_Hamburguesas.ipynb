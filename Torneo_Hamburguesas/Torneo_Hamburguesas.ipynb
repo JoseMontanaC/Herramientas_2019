{
 "cells": [
  {
   "cell_type": "code",
   "execution_count": 69,
   "metadata": {},
   "outputs": [],
   "source": [
    "import pandas as pd\n",
    "import numpy as np\n",
    "import matplotlib.pylab as plt"
   ]
  },
  {
   "cell_type": "code",
   "execution_count": 70,
   "metadata": {},
   "outputs": [],
   "source": [
    "datos=pd.read_csv(\"Torneo_de_Hamburguesas.csv\")"
   ]
  },
  {
   "cell_type": "code",
   "execution_count": 71,
   "metadata": {},
   "outputs": [],
   "source": [
    "Grupo1=datos[datos[\"¿Qué equipo va a calificar?\"]==\"Grupo 1 (Alexandra, Maria Jose)\"]\n",
    "Grupo2=datos[datos[\"¿Qué equipo va a calificar?\"]==\"Grupo 2 (Kike, Katherine, Natalia)\"]\n",
    "Grupo3=datos[datos[\"¿Qué equipo va a calificar?\"]==\"Grupo 3 (Harry, Valeria)\"]\n",
    "Grupo4=datos[datos[\"¿Qué equipo va a calificar?\"]==\"Grupo 4 (Luismiguel, LULU)\"]\n",
    "Grupo5=datos[datos[\"¿Qué equipo va a calificar?\"]==\"Grupo 5 (Alejandro, Valentina)\"]"
   ]
  },
  {
   "cell_type": "code",
   "execution_count": 72,
   "metadata": {},
   "outputs": [],
   "source": [
    "Grupo2=Grupo2[Grupo2[\"¿Qué le cambiaría?, ¿Qué sugerencias tiene?\"]!=\"Nada \"]\n",
    "Grupo2=Grupo2[Grupo2[\"¿Qué le cambiaría?, ¿Qué sugerencias tiene?\"]!=\"Deliciosa\"]\n",
    "Grupo2=Grupo2[Grupo2[\"¿Qué le cambiaría?, ¿Qué sugerencias tiene?\"]!=\"Espectacular\"]"
   ]
  },
  {
   "cell_type": "code",
   "execution_count": 73,
   "metadata": {},
   "outputs": [
    {
     "data": {
      "text/plain": [
       "Index(['Marca temporal', 'Puntuación', '¿Qué equipo va a calificar?',\n",
       "       '¿Cómo calificaría usted la presentación?',\n",
       "       '¿Cómo calificaría usted la creatividad del producto?',\n",
       "       'Término de la carne', 'Sabor General de la Hamburguesa',\n",
       "       'Consistencia del Producto',\n",
       "       '¿Qué le cambiaría?, ¿Qué sugerencias tiene?'],\n",
       "      dtype='object')"
      ]
     },
     "execution_count": 73,
     "metadata": {},
     "output_type": "execute_result"
    }
   ],
   "source": [
    "Grupo1.keys()"
   ]
  },
  {
   "cell_type": "code",
   "execution_count": 74,
   "metadata": {},
   "outputs": [
    {
     "data": {
      "image/png": "[encoded data removed]",
      "text/plain": [
       "<Figure size 360x288 with 1 Axes>"
      ]
     },
     "metadata": {
      "needs_background": "light"
     },
     "output_type": "display_data"
    }
   ],
   "source": [
    "plt.figure(figsize=(5,4))\n",
    "Grupo1[\"¿Cómo calificaría usted la presentación?\"].plot.hist(alpha=0.7)\n",
    "plt.xlabel(\"Puntuación\")\n",
    "plt.ylabel(\"Numero de votos\")\n",
    "plt.title(\"¿Cómo calificaría usted la presentación?\")\n",
    "plt.vlines(Grupo1[\"¿Cómo calificaría usted la presentación?\"].mean(),ymin=0,ymax=5,color=\"firebrick\")\n",
    "plt.show()"
   ]
  },
  {
   "cell_type": "code",
   "execution_count": 75,
   "metadata": {},
   "outputs": [],
   "source": [
    "Preguntas=[\"¿Cómo calificaría usted la presentación?\",'Término de la carne',\"¿Cómo calificaría usted la creatividad del producto?\",\"Sabor General de la Hamburguesa\",\"Consistencia del Producto\"]\n",
    "G=[Grupo1,Grupo2,Grupo3,Grupo4,Grupo5]\n",
    "Colores=[\"tomato\",\"firebrick\",\"royalblue\",\"magenta\",\"pink\"]"
   ]
  },
  {
   "cell_type": "code",
   "execution_count": 76,
   "metadata": {},
   "outputs": [
    {
     "data": {
      "image/png": "[encoded data removed]",
      "text/plain": [
       "<Figure size 720x432 with 1 Axes>"
      ]
     },
     "metadata": {
      "needs_background": "light"
     },
     "output_type": "display_data"
    }
   ],
   "source": [
    "plt.figure(figsize=(10,6))\n",
    "grp=0\n",
    "for grupo in G:\n",
    "    grp+=1\n",
    "    num=0\n",
    "    for q in Preguntas:\n",
    "        plt.errorbar(grp,grupo[q].mean(),yerr=grupo[q].std(),color=Colores[num])\n",
    "        plt.scatter(grp,grupo[q].mean(),color=Colores[num])\n",
    "        num+=1\n",
    "plt.show()"
   ]
  },
  {
   "cell_type": "code",
   "execution_count": 77,
   "metadata": {},
   "outputs": [],
   "source": [
    "grp=0\n",
    "index=0\n",
    "Colors=[\"tomato\",\"firebrick\",\"royalblue\",\"magenta\",\"pink\"]\n",
    "AVG=[]\n",
    "for grupo in G:\n",
    "    grp+=1\n",
    "    k=1\n",
    "    plt.figure(figsize=(10,8))\n",
    "    plt.subplots_adjust(wspace = 0.2,hspace = 0.5)\n",
    "    promedio=0\n",
    "    for q in Preguntas:\n",
    "        plt.subplot(3,2,k)\n",
    "        plt.hist(grupo[q],color=Colors[index],density=True)\n",
    "        histo,bins=np.histogram(grupo[q],density=True)\n",
    "        plt.vlines(grupo[q].mean(),ymin=0,ymax=histo.max())\n",
    "        plt.title(q)\n",
    "        promedio+=grupo[q].mean()\n",
    "        k+=1\n",
    "    AVG.append(promedio/len(Preguntas))\n",
    "    index+=1\n",
    "    plt.savefig(grupo[\"¿Qué equipo va a calificar?\"].iloc[0]+\".pdf\")\n",
    "    #plt.savefig(\"Grupo\"+str(index)+\".pdf\")\n",
    "    plt.close()"
   ]
  },
  {
   "cell_type": "code",
   "execution_count": 80,
   "metadata": {},
   "outputs": [
    {
     "name": "stdout",
     "output_type": "stream",
     "text": [
      "El puntaje del  Grupo 1 (Alexandra, Maria Jose) fue de  6.066666666666666\n",
      "El puntaje del  Grupo 2 (Kike, Katherine, Natalia) fue de  7.739130434782609\n",
      "El puntaje del  Grupo 3 (Harry, Valeria) fue de  7.1\n",
      "El puntaje del  Grupo 4 (Luismiguel, LULU) fue de  8.114285714285714\n",
      "El puntaje del  Grupo 5 (Alejandro, Valentina) fue de  7.866666666666667\n"
     ]
    }
   ],
   "source": [
    "k=0\n",
    "for i in G:\n",
    "    print(\"El puntaje del \",i[\"¿Qué equipo va a calificar?\"].iloc[0],\"fue de \",AVG[k])\n",
    "    k+=1"
   ]
  },
  {
   "cell_type": "code",
   "execution_count": null,
   "metadata": {},
   "outputs": [],
   "source": []
  },
  {
   "cell_type": "code",
   "execution_count": null,
   "metadata": {},
   "outputs": [],
   "source": []
  },
  {
   "cell_type": "code",
   "execution_count": 45,
   "metadata": {},
   "outputs": [
    {
     "data": {
      "text/plain": [
       "18"
      ]
     },
     "execution_count": 45,
     "metadata": {},
     "output_type": "execute_result"
    }
   ],
   "source": []
  },
  {
   "cell_type": "code",
   "execution_count": null,
   "metadata": {},
   "outputs": [],
   "source": []
  }
 ],
 "metadata": {
  "kernelspec": {
   "display_name": "Python 3",
   "language": "python",
   "name": "python3"
  },
  "language_info": {
   "codemirror_mode": {
    "name": "ipython",
    "version": 3
   },
   "file_extension": ".py",
   "mimetype": "text/x-python",
   "name": "python",
   "nbconvert_exporter": "python",
   "pygments_lexer": "ipython3",
   "version": "3.6.7"
  }
 },
 "nbformat": 4,
 "nbformat_minor": 2
}
