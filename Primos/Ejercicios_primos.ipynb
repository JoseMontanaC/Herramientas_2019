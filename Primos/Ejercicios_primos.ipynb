{
 "cells": [
  {
   "cell_type": "markdown",
   "metadata": {},
   "source": [
    "# Encontrando números primos\n",
    "\n",
    "Encontrar numeros primos siempre ha representado un reto, pues aunque su definición parezca trivial, entre más grande sea un número $n$ mayor es el número de interaciones necesarias para poder comprobar si este número es o no un número primo. Primero recordamos que un número primo es un numero $n\\in \\mathbb{N} $ tál que $ \\forall\\  a \\in \\mathbb{N},\\ a\\in (1,n)$, $n/a \\not\\in \\mathbb{N}$\n",
    "\n",
    "Una forma trivial de atacar este problema es por inspección, para esto hacemos una función que pruebe pueda comprobar si un numero dado $n$ es primo o no."
   ]
  },
  {
   "cell_type": "code",
   "execution_count": 3,
   "metadata": {},
   "outputs": [],
   "source": [
    "import numpy as np\n",
    "import math\n",
    "import time\n",
    "import matplotlib.pylab as plt\n",
    "from collections import Counter"
   ]
  },
  {
   "cell_type": "code",
   "execution_count": 4,
   "metadata": {},
   "outputs": [],
   "source": [
    "def basic_is_prime(n):\n",
    "    result=True\n",
    "    for i in range(2,n):\n",
    "        if n%i==0:\n",
    "            result = False\n",
    "    return result"
   ]
  },
  {
   "cell_type": "markdown",
   "metadata": {},
   "source": [
    "Esta función recibe un numero entero $n$ y revisa todos los números hasta $n-1$ buscando los posibles divisores de $n$ en el caso en el que ningún número divida a $n$ entre $2$ y $n-1$, se concluye entonces que $n$ es primo y por ende la función `basic_is_prime`retorna `True`.\n",
    "Ahora vamos a usar esta función para encontrar los primeros números primos entre $0$ y $10000$."
   ]
  },
  {
   "cell_type": "code",
   "execution_count": 5,
   "metadata": {},
   "outputs": [
    {
     "name": "stdout",
     "output_type": "stream",
     "text": [
      "Tiempo tomado: 3.43904972076416\n"
     ]
    }
   ],
   "source": [
    "start=time.time()\n",
    "lista_basic_prime=[]\n",
    "for i in range(2,10000):\n",
    "    if basic_is_prime(i):\n",
    "        lista_basic_prime.append(i)\n",
    "end=time.time()\n",
    "print(\"Tiempo tomado:\",end-start)"
   ]
  },
  {
   "cell_type": "markdown",
   "metadata": {},
   "source": [
    "Como se ve, esto es un algoritmo lento, si se quisiera determinar si un número grande es o no un número primo esto podría tardar demasiado, con lo cual nos lleva a considerar un algoritmo distinto para poder determinar si algún numero es primo o no.\n",
    "\n",
    "## Algoritmo mejorado\n",
    "\n",
    "suponga que $m=\\sqrt{n}$, entonces $m\\times m = n$. Ahora si $n$ no es un número primo entonces $n$ puede ser escrito como $a\\times b \\Rightarrow \\ m\\times m=a\\times b$. Observemos que si $m$ es un numero real, mientras que n,a y b son numeros naturales.\n",
    "\n",
    "Ahora tenemos 3 posibles casos:\n",
    "1. $a>m \\Rightarrow b<m$\n",
    "2. $a=m \\Rightarrow b=m$\n",
    "3. $a<m \\Rightarrow b>m$\n",
    "\n",
    "Para todos estos 3 casos, se tiene que $\\min (a,b)\\leq m$. Por ende $m$ será una cota para encontrar al menos un factor de $n$, lo cual resulta ser una condición suficiente para mostrar que $n$ no es primo."
   ]
  },
  {
   "cell_type": "code",
   "execution_count": 6,
   "metadata": {},
   "outputs": [],
   "source": [
    "def new_is_prime(n):\n",
    "    result=True\n",
    "    for i in range(2,int(np.sqrt(n)+1)):\n",
    "        if n%i==0:\n",
    "            result = False\n",
    "    return result"
   ]
  },
  {
   "cell_type": "code",
   "execution_count": 7,
   "metadata": {},
   "outputs": [
    {
     "name": "stdout",
     "output_type": "stream",
     "text": [
      "Tiempo tomado: 0.07724356651306152\n"
     ]
    }
   ],
   "source": [
    "start=time.time()\n",
    "lista_new_prime=[]\n",
    "for i in range(2,10000):\n",
    "    if new_is_prime(i):\n",
    "        lista_new_prime.append(i)\n",
    "end=time.time()\n",
    "print(\"Tiempo tomado:\",end-start)"
   ]
  },
  {
   "cell_type": "markdown",
   "metadata": {},
   "source": [
    "Como se puede ver esto es un mejora significativa en el programa, sin embargo esto podría ser mejorado ligeramente más. Para esto se hace uso del hecho de que ningun número par puede ser un número primo, con lo cual la busqueda de puede hacerce de en los impares."
   ]
  },
  {
   "cell_type": "code",
   "execution_count": 8,
   "metadata": {},
   "outputs": [],
   "source": [
    "def list_of_primes(n):\n",
    "    lista=np.array([2])\n",
    "    for i in range(3,n+1,2):\n",
    "        if new_is_prime(i):\n",
    "            lista=np.append(lista,i)\n",
    "    return lista"
   ]
  },
  {
   "cell_type": "code",
   "execution_count": 9,
   "metadata": {},
   "outputs": [
    {
     "name": "stdout",
     "output_type": "stream",
     "text": [
      "Tiempo tomado: 0.03845810890197754\n"
     ]
    }
   ],
   "source": [
    "start=time.time()\n",
    "lista_new_prime_2=list_of_primes(10000)\n",
    "end=time.time()\n",
    "print(\"Tiempo tomado:\",end-start)"
   ]
  },
  {
   "cell_type": "markdown",
   "metadata": {},
   "source": [
    "Con el fin de observar que si se guardó la misma cantidad de números primos podemos preguntar por las longitudes de las listas"
   ]
  },
  {
   "cell_type": "code",
   "execution_count": 10,
   "metadata": {},
   "outputs": [
    {
     "data": {
      "text/plain": [
       "(1229, 1229, 1229)"
      ]
     },
     "execution_count": 10,
     "metadata": {},
     "output_type": "execute_result"
    }
   ],
   "source": [
    "len(lista_basic_prime),len(lista_new_prime),len(lista_new_prime_2)"
   ]
  },
  {
   "cell_type": "markdown",
   "metadata": {},
   "source": [
    "## Ejercicio 1\n",
    "Efectue un algoritmo que compruebe que cada elemento de las tres listas es el mismo"
   ]
  },
  {
   "cell_type": "markdown",
   "metadata": {},
   "source": [
    "## Ejercicio 2\n",
    "Una de las aplicaciones que tiene el encontrar los numeros primos es la descomposición de un número en factores primos.\n",
    "\n",
    "Haga una función que haga lo siguente:\n",
    "\n",
    "Dado $n\\in \\mathbb{N}$ encuentre la descomposición en factores primos de $n$. el resultado debe estar dado como una cadena escrita de la forma:\n",
    "\n",
    "$\"(p1**n1)(p2**n2)...(pk**nk)\"$\n",
    "\n",
    "con $p(i)$ está ordenado de menor a mayor y $n(i)$ es vacio si $n(i)$ es 1.\n",
    "\n",
    "Ejemplo: n= 86240, la función retorna $\"(2** 5)(5)(7** 2)(11)\"$\n",
    "\n",
    "Use la anterior función para calcular la descomposición en numeros primos de $512345021, 777546031$ y $7775460$ y evalue cuanto tiempo le toma a su algoritmo efectuar tal descomposición"
   ]
  },
  {
   "cell_type": "markdown",
   "metadata": {},
   "source": [
    "# Metodos aleatorios para encontrar números primos\n",
    "\n",
    "## Test de Fermat\n",
    "Este es un test de complejidad $\\mathbb{O}(\\log(n)$ para comprobar si un número es primo o no. Este test está basado en _Fermat's Little Theorem_\n",
    "\n",
    "**Fermat's Little Theorem**: si $n$ es un numero primo y $a$ es cualquier entero positivo menor que $n$, entonces $a^{n}$ es congruente a $a$ modulo $n$\n",
    "\n",
    "Entonces si $n$ no es un numero primo, entonces en general para casi cualquier $a<n$ no se satisface el aterior teorema.\n",
    "\n",
    "Este test difiere de la mayoria de los algoritmos convencionales, en la cual la respuesta del algoritmo garantiza que esta solución está correcta. Acá lo único que se puede decir de la respuesta proporcionada es que es probablemente correcta. De forma más precisa, si $n$ nunca falla el test de Fermat, se puede estar seguro de que $n$ es un número primo. Sin embargo, el hecho de que $n$ pase el test o no, no garantiza que $n$ sea primo o no, sólo se tiene un indicador de que muy probablemente lo sea. En resumen si este test se aplica una cantidad suficiente de veces y se tiene que $n$ siempre pasa el test, entonces la probabilidad de error al momento de decidir si este número es primo, se reduce tanto como se desee. \n",
    "\n",
    "\n",
    "El problema de este test aparece cuando se tiene que hacer la operación $a^{n}\\ ({\\mbox{mod}}\\ n)$, pues si se hace de una forma \"naïve\" se tiene que la potencia $a^{n}$ crece muy rapido y esto hace que la la maquina no lo pueda escribir.\n",
    "Para esto es entonce necesario hacer uso de otro tipo exponenciación, llamado \"Exponenciación modular\", este tipo de exponenciación resulta ser bastante útil en criptografia y esta aplicación resulta importante al tratar con números \"Grandes\".\n",
    "\n",
    "[Link de referencias](https://en.wikipedia.org/wiki/Modular_exponentiation)\n",
    "\n",
    "__Sugerencia__: La función pow de ``Python`` puede ser usada, para esto vea la referencia de esta funciòn."
   ]
  },
  {
   "cell_type": "markdown",
   "metadata": {},
   "source": [
    "Para implementar el Test de Fermat primero se se escoge un numero aleatorio $a$ entre $1$ y $n-1$ y se verifica si el residuo de modulo $n$ de $a^{n}$ es igual a $a$."
   ]
  },
  {
   "cell_type": "code",
   "execution_count": 11,
   "metadata": {},
   "outputs": [],
   "source": [
    "def Fermat_Test(n,k):\n",
    "    Test=True\n",
    "    for i in range(k):\n",
    "        a=np.random.randint(2,n)\n",
    "        exp=pow(a,n,n)\n",
    "        if exp != a:\n",
    "            Test=False\n",
    "            break\n",
    "    return Test"
   ]
  },
  {
   "cell_type": "code",
   "execution_count": 12,
   "metadata": {},
   "outputs": [
    {
     "name": "stdout",
     "output_type": "stream",
     "text": [
      "Tiempo tomado: 0.08642387390136719\n"
     ]
    }
   ],
   "source": [
    "start=time.time()\n",
    "nueva_lista=[2]\n",
    "for i in range(3,10000):\n",
    "    if Fermat_Test(i,10):\n",
    "        nueva_lista.append(i)\n",
    "end=time.time()\n",
    "print(\"Tiempo tomado:\",end-start)"
   ]
  },
  {
   "cell_type": "markdown",
   "metadata": {},
   "source": [
    "Lo que se tiene acá es que aparentemente se está tomando más tiempo con este algoritmo que con el el propuesto anteriormente, no obstante, esto no es debido a que la cantidad de numero que está calculando no es exactamente la misma cantidad de números primos que hallamos anteriormente, esto se puede ver preguntando por la longitud de cada lista."
   ]
  },
  {
   "cell_type": "code",
   "execution_count": 13,
   "metadata": {},
   "outputs": [
    {
     "data": {
      "text/plain": [
       "(1236, 1229)"
      ]
     },
     "execution_count": 13,
     "metadata": {},
     "output_type": "execute_result"
    }
   ],
   "source": [
    "len(nueva_lista),len(list_of_primes(10000))"
   ]
  },
  {
   "cell_type": "markdown",
   "metadata": {},
   "source": [
    "## Ejercicio 3\n",
    "Con el fin de ver cuales fueron los nuevos números que aparecieron a partir de este algoritmo, haga una función que determine cuales son los números nuevos que aparecen. Estos números que aparecen son conocidos por el nombre de [Números de Carmichael](https://en.wikipedia.org/wiki/Carmichael_number), encuentre los primeros $12$ números y use la función del Ejercicio 2 para calcular la descomposición de estos números y así mostrar que estos no son números primos."
   ]
  },
  {
   "cell_type": "markdown",
   "metadata": {},
   "source": [
    "Devido al problema que se tiene con el test de Fermat que existen números que logran pasar este test desapercibidos y que no son primos, pues resultaba que $a^{n}$ era congruente con $a$ modulo n para cualquier entero $a<n$. Aunque estos números fueran bastante extraños, se tiene entonces que el test de Fermat parecia no ser un buen test para evaluar si un número era o no primo, con lo cual es necesario recurrir a algún metodo un poco más elaborado para esto."
   ]
  },
  {
   "cell_type": "markdown",
   "metadata": {},
   "source": [
    "# Miller-Rabin Test\n",
    "Este se deriva de una variante del teorema de Fermat. Para hacer uso de este test en un número $n$ se seleciona de forma aleatoria un número $a<n$ y este se eleva a la $n-1$ y se toma el modulo $n$, salvo que en el momento en el que se calcula esto por medio de la operación de la Exponenciación modular, se verifica si se ha descubierto una \"Raiz cuadrada no trivieal de $1$ modulo $n$\", esto es, un número que no sea igual a $1$ o $-1$ cuyo cuadrado es igual a 1 modulo $n$. Es posible demostrar que si tal raiz cuadrada no trivial de $1$ existe, entonces $n$ no es un número primo. Así mismo es posible demostrar que si $n$ es un numero impar que no es primo, entonces, para al menos la mitad de los números $a<n$, al calcular $a^{n-1}$ haciendo uso de la exponenciación modular, se puede determinar si el número es o no una raiz cuadrada no trivial de $1$ modulo $n$. Esta es la razón principal por la cual al hacer uso de este test, se tiene una certeza de si los resultados que se obtienen son los adecuados o no.\n",
    "\n",
    "Para esto hacemos lo siguiente, supongamos que $n>1$ es un númere impar del cual queremos saber si es primo o no. Sean $s$ el número natural y $d$ el impar tales que $n-1 = 2^{s}d$ y $a$ un entero escogido aleatoriamente entre $2$ y $n-2$ \n",
    "\n",
    "__Paso 0__: Se calcula $x_{0} = a^{d}\\ (mod\\ n).$\n",
    "\n",
    "Si ${\\displaystyle x_{0}\\equiv \\pm 1\\ (mod\\ n)}$ , el test culmina con la conlcusión de que $n$ es probable primo.\n",
    "\n",
    "__Paso 1__: En caso contrario se calcula ${\\displaystyle x_{1}=x_{0}^{2}\\ (mod\\ n)}$.\n",
    "\n",
    "Si ${\\displaystyle x_{1}\\equiv -1\\ (mod\\ n)} $, el test culmina con la conclusión de que n es probable primo.\n",
    "\n",
    "__Paso $i$__: De igual forma, siempre que ${\\displaystyle i<s-1}$ y ${\\displaystyle x_{i-1}\\neq \\pm 1\\ (mod\\ n)}$, se calcula ${\\displaystyle b_{i}=b_{i-1}^{2}\\ (mod\\ n)}$.\n",
    "\n",
    "Si ${\\displaystyle b_{i}\\equiv -1\\ (mod\\ n)}$, el test culmina con la conclusión de que n es probable primo.\n",
    "\n",
    "\n",
    "__Paso s-1__ Se calcula ${\\displaystyle b_{k-1}=b_{k-2}^{2}\\ (mod\\ n)}$.\n",
    "\n",
    "Si ${\\displaystyle b_{k-1}\\equiv -1\\ (mod\\ n)}$ , el test culmina con la conclusión de que n es probable primo.\n",
    "\n",
    "\n",
    "En cualquier otro caso, el test culmina con la conclusión de que n no es primo."
   ]
  },
  {
   "cell_type": "code",
   "execution_count": 14,
   "metadata": {},
   "outputs": [],
   "source": [
    "def check(a,s ,d, n):\n",
    "    x=pow(a,d,n)\n",
    "    #print(\"%d ---- %d\" %(a,x))\n",
    "    if x==1:\n",
    "        return True\n",
    "    for i in range(s-1):\n",
    "        if x==n-1:\n",
    "            return True\n",
    "        x=pow(x,2,n)\n",
    "        #print(\"%d ---- %d\" %(a,x))\n",
    "    return x==n-1\n",
    "def miller_rabin(n,k):\n",
    "    # 2  es un número primo\n",
    "    if n==2:\n",
    "        return True\n",
    "    '''todo numero par no es un número primo, (menos el 2)\n",
    "    entonces la forma más rapida de verificar esto es viendo si \n",
    "    el ultimo elemento del número en binario es termina en 1 ( es impar)'''\n",
    "    if not n & 1:\n",
    "        return False\n",
    "    s=0\n",
    "    d=n-1\n",
    "    #Esta parte se hace para determinar cuales son los valores de s y de d para así escribir n-1 como 2^{s}d\n",
    "    while(d%2 == 0):\n",
    "        #dividimos por 2\n",
    "        d>>=1 # Esto es equivalente a divir por 2, el correr un \n",
    "        s+=1\n",
    "    for i in range(k):\n",
    "        a=np.random.randint(2,n)-1\n",
    "        if not check(a,s,d,n):\n",
    "            return False\n",
    "    return True"
   ]
  },
  {
   "cell_type": "code",
   "execution_count": 15,
   "metadata": {},
   "outputs": [
    {
     "name": "stdout",
     "output_type": "stream",
     "text": [
      "Tiempo tomado: 0.14474248886108398\n"
     ]
    }
   ],
   "source": [
    "start=time.time()\n",
    "lista_miller_rabin=[2,3]\n",
    "for i in range(4,10000):\n",
    "    if miller_rabin(i,10):\n",
    "        lista_miller_rabin.append(i)\n",
    "end=time.time()\n",
    "print(\"Tiempo tomado:\",end-start)"
   ]
  },
  {
   "cell_type": "markdown",
   "metadata": {},
   "source": [
    "Aunque el tiempo tomado se redujo significativamente se observa que de igual forma los teste snteriores parecen funcionar mejor, sin embargo la ventaja de este test aparece cuando se quiere verificar si números muy grandes son primos o no, para esto probemos con un números tales como los que se encuentran en el archivo `Primos_1E11.txt`, los cuales són números primos bastante grandes."
   ]
  },
  {
   "cell_type": "code",
   "execution_count": 16,
   "metadata": {},
   "outputs": [],
   "source": [
    "archivo_primos=open(\"Primos_1E11.txt\",\"r\")\n",
    "numeros_primos_lista=np.array([],dtype=int)\n",
    "for i in archivo_primos.readlines():\n",
    "    numeros=i.split()\n",
    "    numeros=np.array(numeros,dtype=int)\n",
    "    numeros_primos_lista=np.append(numeros_primos_lista,numeros)\n",
    "archivo_primos.close()"
   ]
  },
  {
   "cell_type": "code",
   "execution_count": 17,
   "metadata": {},
   "outputs": [
    {
     "name": "stdout",
     "output_type": "stream",
     "text": [
      "Tiempo tomado metodo convencional: 33.99022197723389\n"
     ]
    }
   ],
   "source": [
    "start=time.time()\n",
    "for i in numeros_primos_lista:\n",
    "    new_is_prime(i)\n",
    "end=time.time()\n",
    "print(\"Tiempo tomado metodo convencional:\",end-start)"
   ]
  },
  {
   "cell_type": "code",
   "execution_count": 18,
   "metadata": {},
   "outputs": [
    {
     "name": "stdout",
     "output_type": "stream",
     "text": [
      "Tiempo tomado metodo Miller Rabin: 0.1726694107055664\n"
     ]
    }
   ],
   "source": [
    "start=time.time()\n",
    "for i in numeros_primos_lista:\n",
    "    #print(i,type(i))\n",
    "    miller_rabin(int(i),50)\n",
    "end=time.time()\n",
    "print(\"Tiempo tomado metodo Miller Rabin:\",end-start)"
   ]
  },
  {
   "cell_type": "markdown",
   "metadata": {},
   "source": [
    "Con esto se puede evidenciar lo potente del método de Miller-Rabin comparado con los metodos convencionales."
   ]
  },
  {
   "cell_type": "markdown",
   "metadata": {},
   "source": [
    "# Ejercicio 4\n",
    "\n",
    "Con el fin de estudiar el desempeño de cada uno de los algoritmos que se habló acá, efectue un algoritmo que compare los tiempos que toma cada método para los números primos que estén entre $1\\times 10^{4}$ y $1\\times 10^{6}$, para mostrar los resultados prepare una gráfica en donde se muestren los tiempos tomados por cada algoritmo en función del valor del número primo en este rango."
   ]
  },
  {
   "cell_type": "code",
   "execution_count": null,
   "metadata": {},
   "outputs": [],
   "source": []
  }
 ],
 "metadata": {
  "kernelspec": {
   "display_name": "Python 3",
   "language": "python",
   "name": "python3"
  },
  "language_info": {
   "codemirror_mode": {
    "name": "ipython",
    "version": 3
   },
   "file_extension": ".py",
   "mimetype": "text/x-python",
   "name": "python",
   "nbconvert_exporter": "python",
   "pygments_lexer": "ipython3",
   "version": "3.6.7"
  }
 },
 "nbformat": 4,
 "nbformat_minor": 2
}
