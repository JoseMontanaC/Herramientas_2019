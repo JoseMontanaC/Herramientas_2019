{
 "cells": [
  {
   "cell_type": "markdown",
   "metadata": {},
   "source": [
    "# Encontrando números primos"
   ]
  },
  {
   "cell_type": "markdown",
   "metadata": {},
   "source": [
    "Encontrar numeros primos siempre ha representado un reto, pues aunque su definición parezca trivial, entre más grande sea un número $n$ mayor es el número de interaciones necesarias para poder comprobar si este número es o no un número primo. Primero recordamos que un número primo es un numero $n\\in \\mathbb{N} $ tál que $ \\forall\\  a \\in \\mathbb{N},\\ a\\in (1,n)$, $n/a \\not\\in \\mathbb{N}$\n",
    "\n",
    "Una forma trivial de atacar este problema es por inspección, para esto hacemos una función que pruebe pueda comprobar si un numero dado $n$ es primo o no."
   ]
  },
  {
   "cell_type": "code",
   "execution_count": 35,
   "metadata": {},
   "outputs": [],
   "source": [
    "import numpy as np\n",
    "import math\n",
    "import time\n",
    "import matplotlib.pylab as plt\n",
    "from collections import Counter"
   ]
  },
  {
   "cell_type": "code",
   "execution_count": 2,
   "metadata": {},
   "outputs": [],
   "source": [
    "def basic_is_prime(n):\n",
    "    result=True\n",
    "    for i in range(2,n):\n",
    "        if n%i==0:\n",
    "            result = False\n",
    "    return result"
   ]
  },
  {
   "cell_type": "markdown",
   "metadata": {},
   "source": [
    "Esta función recibe un numero entero $n$ y revisa todos los números hasta $n-1$ buscando los posibles divisores de $n$ en el caso en el que ningún número divida a $n$ entre $2$ y $n-1$, se concluye entonces que $n$ es primo y por ende la función `basic_is_prime`retorna `True`.\n",
    "Ahora vamos a usar esta función para encontrar los primeros números primos entre $0$ y $10000$."
   ]
  },
  {
   "cell_type": "code",
   "execution_count": 6,
   "metadata": {},
   "outputs": [
    {
     "name": "stdout",
     "output_type": "stream",
     "text": [
      "Tiempo tomado: 3.5791659355163574\n"
     ]
    }
   ],
   "source": [
    "start=time.time()\n",
    "lista_basic_prime=[]\n",
    "for i in range(2,10000):\n",
    "    if basic_is_prime(i):\n",
    "        lista_basic_prime.append(i)\n",
    "end=time.time()\n",
    "print(\"Tiempo tomado:\",end-start)"
   ]
  },
  {
   "cell_type": "markdown",
   "metadata": {},
   "source": [
    "Como se ve, esto es un algoritmo lento, si se quisiera determinar si un número grande es o no un número primo esto podría tardar demasiado, con lo cual nos lleva a considerar un algoritmo distinto para poder determinar si algún numero es primo o no.\n",
    "\n",
    "## Algoritmo mejorado\n",
    "\n",
    "suponga que $m=\\sqrt{n}$, entonces $m\\times m = n$. Ahora si $n$ no es un número primo entonces $n$ puede ser escrito como $a\\times b \\Rightarrow \\ m\\times m=a\\times b$. Observemos que si $m$ es un numero real, mientras que n,a y b son numeros naturales.\n",
    "\n",
    "Ahora tenemos 3 posibles casos:\n",
    "1. $a>m \\Rightarrow b<m$\n",
    "2. $a=m \\Rightarrow b=m$\n",
    "3. $a<m \\Rightarrow b>m$\n",
    "\n",
    "Para todos estos 3 casos, se tiene que $\\min (a,b)\\leq m$. Por ende $m$ será una cota para encontrar al menos un factor de $n$, lo cual resulta ser una condición suficiente para mostrar que $n$ no es primo."
   ]
  },
  {
   "cell_type": "code",
   "execution_count": 7,
   "metadata": {},
   "outputs": [],
   "source": [
    "def new_is_prime(n):\n",
    "    result=True\n",
    "    for i in range(2,int(np.sqrt(n)+1)):\n",
    "        if n%i==0:\n",
    "            result = False\n",
    "    return result"
   ]
  },
  {
   "cell_type": "code",
   "execution_count": 8,
   "metadata": {},
   "outputs": [
    {
     "name": "stdout",
     "output_type": "stream",
     "text": [
      "Tiempo tomado: 0.07704019546508789\n"
     ]
    }
   ],
   "source": [
    "start=time.time()\n",
    "lista_new_prime=[]\n",
    "for i in range(2,10000):\n",
    "    if new_is_prime(i):\n",
    "        lista_new_prime.append(i)\n",
    "end=time.time()\n",
    "print(\"Tiempo tomado:\",end-start)"
   ]
  },
  {
   "cell_type": "markdown",
   "metadata": {},
   "source": [
    "Como se puede ver esto es un mejora significativa en el programa, sin embargo esto podría ser mejorado ligeramente más. Para esto se hace uso del hecho de que ningun número par puede ser un número primo, con lo cual la busqueda de puede hacerce de en los impares."
   ]
  },
  {
   "cell_type": "code",
   "execution_count": 9,
   "metadata": {},
   "outputs": [],
   "source": [
    "def list_of_primes(n):\n",
    "    lista=np.array([2])\n",
    "    for i in range(3,n+1,2):\n",
    "        if new_is_prime(i):\n",
    "            lista=np.append(lista,i)\n",
    "    return lista"
   ]
  },
  {
   "cell_type": "code",
   "execution_count": 10,
   "metadata": {},
   "outputs": [
    {
     "name": "stdout",
     "output_type": "stream",
     "text": [
      "Tiempo tomado: 0.0666501522064209\n"
     ]
    }
   ],
   "source": [
    "start=time.time()\n",
    "lista_new_prime_2=list_of_primes(10000)\n",
    "end=time.time()\n",
    "print(\"Tiempo tomado:\",end-start)"
   ]
  },
  {
   "cell_type": "code",
   "execution_count": 11,
   "metadata": {},
   "outputs": [
    {
     "data": {
      "text/plain": [
       "(1229, 1229, 1229)"
      ]
     },
     "execution_count": 11,
     "metadata": {},
     "output_type": "execute_result"
    }
   ],
   "source": [
    "len(lista_basic_prime),len(lista_new_prime),len(lista_new_prime_2)"
   ]
  },
  {
   "cell_type": "markdown",
   "metadata": {},
   "source": [
    "Una de las aplicaciones que tiene el encontrar los numeros primos es la descomposición de un número en factores primos, una forma de implementar esto se podría hacer de la siguiente forma: "
   ]
  },
  {
   "cell_type": "markdown",
   "metadata": {},
   "source": [
    "# ------ Sugerir como ejercicio ------\n",
    "\n",
    "Dado $n\\in \\mathbb{N}$ encuentre la descomposición en factores primos de $n$. el resultado debe estar dado como una cadena escrita de la forma:\n",
    "\n",
    "$\"(p1**n1)(p2**n2)...(pk**nk)\"$\n",
    "\n",
    "con $p(i)$ está ordenado de menor a mayor y $n(i)$ es vacio si $n(i)$ es 1.\n",
    "\n",
    "Ejemplo: n= 86240, la función retorna $\"(2** 5)(5)(7** 2)(11)\"$"
   ]
  },
  {
   "cell_type": "code",
   "execution_count": 16,
   "metadata": {},
   "outputs": [],
   "source": [
    "def get_prime_Factors(n):\n",
    "    if type(n) is not int or n < 1:\n",
    "        # Not an integer, negative or 0\n",
    "        return []\n",
    "    elif(n<3):\n",
    "        return [n]\n",
    "    factors=[]\n",
    "    if new_is_prime(n):\n",
    "        return [n]\n",
    "    while(n>1):\n",
    "        for i in range(2,n+1):\n",
    "            if new_is_prime(i) and not n % i:\n",
    "                n=int(n/i)\n",
    "                factors.append(i)\n",
    "                break\n",
    "    return factors"
   ]
  },
  {
   "cell_type": "code",
   "execution_count": 17,
   "metadata": {},
   "outputs": [],
   "source": [
    "def primeFactors(n):\n",
    "    f= get_prime_Factors(n)\n",
    "    factors = sorted(list(set(f)))\n",
    "    powers = [f.count(factor) for factor in factors]\n",
    "    result=\"\"\n",
    "    for i in range(len(factors)):\n",
    "        if powers[i]==1:\n",
    "            result+=\"(\"+str(factors[i])+\")\"\n",
    "        else:\n",
    "            result+=\"(\"+str(factors[i])+\"**\"+str(powers[i])+\")\"\n",
    "    return result"
   ]
  },
  {
   "cell_type": "markdown",
   "metadata": {},
   "source": [
    "Usemos la anterior función para calcular la descomposición en numeros primos de $512345021, 777546031$ y $7775460$"
   ]
  },
  {
   "cell_type": "code",
   "execution_count": 18,
   "metadata": {},
   "outputs": [
    {
     "name": "stdout",
     "output_type": "stream",
     "text": [
      "(512345021) (23567)(32993) (2**2)(3**3)(5)(7)(11**2)(17) (2**5)(5)(7**2)(11)\n"
     ]
    }
   ],
   "source": [
    "print(primeFactors(512345021),primeFactors(777546031),primeFactors(7775460), primeFactors(86240))"
   ]
  },
  {
   "cell_type": "markdown",
   "metadata": {},
   "source": [
    "[Propuesta de la Solucion a este ejercicio](https://github.com/d2718nis/codewars-prime-number-decompositions)"
   ]
  },
  {
   "cell_type": "markdown",
   "metadata": {},
   "source": [
    "# Metodos aleatorios para encontrar números primos"
   ]
  },
  {
   "cell_type": "markdown",
   "metadata": {},
   "source": [
    "## Test de Fermat\n",
    "Este es un test de complejidad $\\mathbb{O}(\\log(n)$ para comprobar si un número es primo o no. Este test está basado en _Fermat's Little Theorem_\n",
    "\n",
    "**Fermat's Little Theorem**: si $n$ es un numero primo y $a$ es cualquier entero positivo menor que $n$, entonces $a^{n}$ es congruente a $a$ modulo $n$\n",
    "\n",
    "Entonces si $n$ no es un numero primo, entonces en general para casi cualquier $a<n$ no se satisface el aterior teorema."
   ]
  },
  {
   "cell_type": "markdown",
   "metadata": {},
   "source": [
    "Este test difiere de la mayoria de los algoritmos convencionales, en la cual la respuesta del algoritmo garantiza que esta solución está correcta. Acá lo único que se puede decir de la respuesta proporcionada es que es probablemente correcta. De forma más precisa, si $n$ nunca falla el test de Fermat, se puede estar seguro de que $n$ es un número primo. Sin embargo, el hecho de que $n$ pase el test o no, no garantiza que $n$ sea primo o no, sólo se tiene un indicador de que muy probablemente lo sea. En resumen si este test se aplica una cantidad suficiente de veces y se tiene que $n$ siempre pasa el test, entonces la probabilidad de error al momento de decidir si este número es primo, se reduce tanto como se desee. \n",
    "\n",
    "\n",
    "El problema de este test aparece cuando se tiene que hacer la operación $a^{n}\\ ({\\mbox{mod}}\\ n)$, pues si se hace de una forma \"naïve\" se tiene que la potencia $a^{n}$ crece muy rapido y esto hace que la la maquina no lo pueda escribir.\n",
    "Para esto es entonce necesario hacer uso de otro tipo exponenciación, llamado \"Exponenciación modular\", este tipo de exponenciación resulta ser bastante útil en criptografia y esta aplicación resulta importante al tratar con números \"Grandes\".\n",
    "\n",
    "[Link de referencias](https://en.wikipedia.org/wiki/Modular_exponentiation)\n",
    "\n",
    "[link para hacer el algoritmo de exponenciación](https://eli.thegreenplace.net/2009/03/28/efficient-modular-exponentiation-algorithms)\n",
    "\n",
    "[link de otro algoritmo de exponenciación](https://en.wikibooks.org/wiki/Algorithm_Implementation/Mathematics/Modular_Exponentiation)"
   ]
  },
  {
   "cell_type": "code",
   "execution_count": 19,
   "metadata": {},
   "outputs": [],
   "source": [
    "def expmod(base, exp, n):\n",
    "    r = 1\n",
    "    for i in range(exp):\n",
    "        r = r * base % n\n",
    "    return r\n",
    "def powmod(a,e,n):\n",
    "    accum = 1; i = 0; apow2 = a\n",
    "    while ((e>>i)>0):\n",
    "        if ((e>>i) & 1):\n",
    "            accum = (accum*apow2) % n\n",
    "        apow2 = (apow2*apow2) % n\n",
    "        i += 1\n",
    "    return accum\n",
    "# la funcion pow tambien puede ser usada en python"
   ]
  },
  {
   "cell_type": "markdown",
   "metadata": {},
   "source": [
    "Para implementar el Test de Fermat primero se se escoge un numero aleatorio $a$ entre $1$ y $n-1$ y se verifica si el residuo de modulo $n$ de $a^{n}$ es igual a $a$."
   ]
  },
  {
   "cell_type": "code",
   "execution_count": 20,
   "metadata": {},
   "outputs": [],
   "source": [
    "def Fermat_Test(n,k):\n",
    "    Test=True\n",
    "    #a=np.random.choice(range(2,n),k,replace=False)\n",
    "    #exp=expmod(a,n,n)\n",
    "    #for i in range(len(a)):\n",
    "     #   if a[i] != exp[i]:\n",
    "      #      Test=False\n",
    "       #     break\n",
    "    for i in range(k):\n",
    "        a=np.random.randint(2,n)\n",
    "        exp=expmod(a,n,n)\n",
    "        if exp != a:\n",
    "            Test=False\n",
    "            break\n",
    "    return Test"
   ]
  },
  {
   "cell_type": "code",
   "execution_count": 22,
   "metadata": {},
   "outputs": [
    {
     "name": "stdout",
     "output_type": "stream",
     "text": [
      "Tiempo tomado: 9.812031745910645\n"
     ]
    }
   ],
   "source": [
    "start=time.time()\n",
    "nueva_lista=[2]\n",
    "for i in range(3,10000):\n",
    "    if Fermat_Test(i,10):\n",
    "        nueva_lista.append(i)\n",
    "end=time.time()\n",
    "print(\"Tiempo tomado:\",end-start)"
   ]
  },
  {
   "cell_type": "markdown",
   "metadata": {},
   "source": [
    "Lo que se tiene acá es que aparentemente se está tomando más tiempo con este algoritmo que con el el propuesto anteriormente, no obstante, esto no es debido a que la cantidad de numero que está calculando no es exactamente la misma cantidad de números primos que hallamos anteriormente, esto se puede ver preguntando por la longitud de cada lista."
   ]
  },
  {
   "cell_type": "code",
   "execution_count": 23,
   "metadata": {},
   "outputs": [
    {
     "data": {
      "text/plain": [
       "(1236, 1229)"
      ]
     },
     "execution_count": 23,
     "metadata": {},
     "output_type": "execute_result"
    }
   ],
   "source": [
    "len(nueva_lista),len(list_of_primes(10000))"
   ]
  },
  {
   "cell_type": "markdown",
   "metadata": {},
   "source": [
    "Para ver cuales fueron los elementos que se agregaron de más, podemos comparar las listas."
   ]
  },
  {
   "cell_type": "code",
   "execution_count": 25,
   "metadata": {},
   "outputs": [
    {
     "name": "stdout",
     "output_type": "stream",
     "text": [
      "[561, 1105, 1729, 2465, 2821, 6601, 8911]\n"
     ]
    }
   ],
   "source": [
    "lista_primos=list_of_primes(100000)\n",
    "CH_num=[]\n",
    "for i in range(len(nueva_lista)):\n",
    "    if nueva_lista[i] not in lista_primos:\n",
    "        CH_num.append(nueva_lista[i])\n",
    "        #print(nueva_lista[i])\n",
    "print(CH_num)"
   ]
  },
  {
   "cell_type": "markdown",
   "metadata": {},
   "source": [
    "Se tiene entonces que los números que aparecieron son $561,1105,1729,2465,2821,6601,8911,10585, 15841, 29341, 41041, 46657 \\ldots$, estos números como podemos ver no son primos pues tienen una descomposición en primos dada por:"
   ]
  },
  {
   "cell_type": "code",
   "execution_count": 26,
   "metadata": {},
   "outputs": [
    {
     "name": "stdout",
     "output_type": "stream",
     "text": [
      "561 Se descompone como (3)(11)(17)\n",
      "1105 Se descompone como (5)(13)(17)\n",
      "1729 Se descompone como (7)(13)(19)\n",
      "2465 Se descompone como (5)(17)(29)\n",
      "2821 Se descompone como (7)(13)(31)\n",
      "6601 Se descompone como (7)(23)(41)\n",
      "8911 Se descompone como (7)(19)(67)\n"
     ]
    }
   ],
   "source": [
    "for i in CH_num:\n",
    "    print(i, \"Se descompone como\",primeFactors(i))"
   ]
  },
  {
   "cell_type": "markdown",
   "metadata": {},
   "source": [
    "Esto no es conincidencia ni es problema de la cantidad de test que se efectuen, estos números son unos números bastante particulares llamado números de Carmichael y surgen del hecho de que el teorema de Fermat establece que si $a$ no es divisible por $p$ entonces $p$ divide a $a^{p}-a$:\n",
    "\n",
    "$${\\displaystyle \\ p|a^{p}-a}.$$\n",
    "\n",
    "Para determinar si un número n es primo o no, se escoge un número a que sea primo relativo con n y se calcula ${\\displaystyle \\ a^{n-1}{\\pmod {n}}}$. Si el resultado es diferente a 1, el número es compuesto con toda certeza.\n",
    "\n",
    "Desafortunadamente si el resultado es 1 no es posible asegurar que el número n es primo, ya que el inverso del teorema de Fermat no es válido: existen números compuestos a tales que ${\\displaystyle a^{n}\\equiv a{\\pmod {n}}}$. Tales números se denominan pseudoprimos en la base a, por lo que la prueba propuesta no es en realidad una verdadera prueba de primalidad.\n",
    "\n",
    "Los números de Carmichael son entonces números pseudoprimos en cualquier base: son los números para los que la prueba anterior falla para cualquier elección de base que sea primo relativo con el número dado."
   ]
  },
  {
   "cell_type": "markdown",
   "metadata": {},
   "source": [
    "## Ejercicio\n",
    "Obtenga los primeros 20 números de Carmichael, para esto deberá hacer uso de algo más eficiente que el algoritmo planteado anteriormente."
   ]
  },
  {
   "cell_type": "markdown",
   "metadata": {},
   "source": [
    "$561, 1105, 1729, 2465, 2821, 6601, 8911, 10585, 15841, 29341, 41041, 46657, 52633, 62745, 63973, 75361, 101101, 115921, 126217, 162401$"
   ]
  },
  {
   "cell_type": "markdown",
   "metadata": {},
   "source": [
    "Devido al problema que se tiene con el test de Fermat que existen números que logran pasar este test desapercibidos y que no son primos, pues resultaba que $a^{n}$ era congruente con $a$ modulo n para cualquier entero $a<n$. Aunque estos números fueran bastante extraños, se tiene entonces que el test de Fermat parecia no ser un buen test para evaluar si un número era o no primo, con lo cual es necesario recurrir a algún metodo un poco más elaborado para esto."
   ]
  },
  {
   "cell_type": "markdown",
   "metadata": {},
   "source": [
    "# Miller-Rabin Test\n",
    "Este se deriva de una variante del teorema de Fermat. Para hacer uso de este test en un número $n$ se seleciona de forma aleatoria un número $a<n$ y este se eleva a la $n-1$ y se toma el modulo $n$, salvo que en el momento en el que se calcula esto por medio de la operación de la Exponenciación modular, se verifica si se ha descubierto una \"Raiz cuadrada no trivieal de $1$ modulo $n$\", esto es, un número que no sea igual a $1$ o $-1$ cuyo cuadrado es igual a 1 modulo $n$. Es posible demostrar que si tal raiz cuadrada no trivial de $1$ existe, entonces $n$ no es un número primo. Así mismo es posible demostrar que si $n$ es un numero impar que no es primo, entonces, para al menos la mitad de los números $a<n$, al calcular $a^{n-1}$ haciendo uso de la exponenciación modular, se puede determinar si el número es o no una raiz cuadrada no trivial de $1$ modulo $n$. Esta es la razón principal por la cual al hacer uso de este test, se tiene una certeza de si los resultados que se obtienen son los adecuados o no."
   ]
  },
  {
   "cell_type": "markdown",
   "metadata": {},
   "source": [
    "Para esto hacemos lo siguiente, supongamos que $n>1$ es un númere impar del cual queremos saber si es primo o no. Sean $s$ el número natural y $d$ el impar tales que $n-1 = 2^{s}d$ y $a$ un entero escogido aleatoriamente entre $2$ y $n-2$ \n",
    "\n",
    "__Paso 0__: Se calcula $x_{0} = a^{d}\\ (mod\\ n).$\n",
    "\n",
    "Si ${\\displaystyle x_{0}\\equiv \\pm 1\\ (mod\\ n)}$ , el test culmina con la conlcusión de que $n$ es probable primo.\n",
    "\n",
    "__Paso 1__: En caso contrario se calcula ${\\displaystyle x_{1}=x_{0}^{2}\\ (mod\\ n)}$.\n",
    "\n",
    "Si ${\\displaystyle x_{1}\\equiv -1\\ (mod\\ n)} $, el test culmina con la conclusión de que n es probable primo.\n",
    "\n",
    "__Paso $i$__: De igual forma, siempre que ${\\displaystyle i<s-1}$ y ${\\displaystyle x_{i-1}\\neq \\pm 1\\ (mod\\ n)}$, se calcula ${\\displaystyle b_{i}=b_{i-1}^{2}\\ (mod\\ n)}$.\n",
    "\n",
    "Si ${\\displaystyle b_{i}\\equiv -1\\ (mod\\ n)}$, el test culmina con la conclusión de que n es probable primo.\n",
    "\n",
    "\n",
    "__Paso s-1__ Se calcula ${\\displaystyle b_{k-1}=b_{k-2}^{2}\\ (mod\\ n)}$.\n",
    "\n",
    "Si ${\\displaystyle b_{k-1}\\equiv -1\\ (mod\\ n)}$ , el test culmina con la conclusión de que n es probable primo.\n",
    "\n",
    "\n",
    "En cualquier otro caso, el test culmina con la conclusión de que n no es primo."
   ]
  },
  {
   "cell_type": "code",
   "execution_count": 27,
   "metadata": {},
   "outputs": [],
   "source": [
    "def check(a,s ,d, n):\n",
    "    x=pow(a,d,n)\n",
    "    #print(\"%d ---- %d\" %(a,x))\n",
    "    if x==1:\n",
    "        return True\n",
    "    for i in range(s-1):\n",
    "        if x==n-1:\n",
    "            return True\n",
    "        x=pow(x,2,n)\n",
    "        #print(\"%d ---- %d\" %(a,x))\n",
    "    return x==n-1\n",
    "def miller_rabin(n,k):\n",
    "    # 2  es un número primo\n",
    "    if n==2:\n",
    "        return True\n",
    "    '''todo numero par no es un número primo, (menos el 2)\n",
    "    entonces la forma más rapida de verificar esto es viendo si \n",
    "    el ultimo elemento del número en binario es termina en 1 ( es impar)'''\n",
    "    if not n & 1:\n",
    "        return False\n",
    "    s=0\n",
    "    d=n-1\n",
    "    #Esta parte se hace para determinar cuales son los valores de s y de d para así escribir n-1 como 2^{s}d\n",
    "    while(d%2 == 0):\n",
    "        #dividimos por 2\n",
    "        d>>=1 # Esto es equivalente a divir por 2, el correr un \n",
    "        s+=1\n",
    "    for i in range(k):\n",
    "        a=np.random.randint(2,n)-1\n",
    "        if not check(a,s,d,n):\n",
    "            return False\n",
    "    return True"
   ]
  },
  {
   "cell_type": "code",
   "execution_count": 28,
   "metadata": {},
   "outputs": [
    {
     "name": "stdout",
     "output_type": "stream",
     "text": [
      "Tiempo tomado: 1.4595377445220947\n"
     ]
    }
   ],
   "source": [
    "start=time.time()\n",
    "lista_miller_rabin=[2,3]\n",
    "for i in range(4,50000):\n",
    "    if miller_rabin(i,50):\n",
    "        lista_miller_rabin.append(i)\n",
    "end=time.time()\n",
    "print(\"Tiempo tomado:\",end-start)"
   ]
  },
  {
   "cell_type": "markdown",
   "metadata": {},
   "source": [
    "Aunque el tiempo tomado se redujo significativamente se observa que de igual forma los teste snteriores parecen funcionar mejor, sin embargo la ventaja de este test aparece cuando se quiere verificar si números muy grandes son primos o no, para esto probemos con un números tales como los que se encuentran en el archivo `Primos_1E11.txt`, los cuales són números primos bastante grandes."
   ]
  },
  {
   "cell_type": "code",
   "execution_count": 29,
   "metadata": {},
   "outputs": [],
   "source": [
    "archivo_primos=open(\"Primos_1E11.txt\",\"r\")\n",
    "numeros_primos_lista=np.array([],dtype=int)\n",
    "for i in archivo_primos.readlines():\n",
    "    numeros=i.split()\n",
    "    numeros=np.array(numeros,dtype=int)\n",
    "    numeros_primos_lista=np.append(numeros_primos_lista,numeros)\n",
    "archivo_primos.close()"
   ]
  },
  {
   "cell_type": "code",
   "execution_count": 30,
   "metadata": {},
   "outputs": [
    {
     "name": "stdout",
     "output_type": "stream",
     "text": [
      "Tiempo tomado metodo convencional: 36.38381052017212\n"
     ]
    }
   ],
   "source": [
    "start=time.time()\n",
    "for i in numeros_primos_lista:\n",
    "    new_is_prime(i)\n",
    "end=time.time()\n",
    "print(\"Tiempo tomado metodo convencional:\",end-start)"
   ]
  },
  {
   "cell_type": "code",
   "execution_count": 31,
   "metadata": {},
   "outputs": [
    {
     "name": "stdout",
     "output_type": "stream",
     "text": [
      "Tiempo tomado metodo Miller Rabin: 0.19503378868103027\n"
     ]
    }
   ],
   "source": [
    "start=time.time()\n",
    "for i in numeros_primos_lista:\n",
    "    #print(i,type(i))\n",
    "    miller_rabin(int(i),50)\n",
    "end=time.time()\n",
    "print(\"Tiempo tomado metodo Miller Rabin:\",end-start)"
   ]
  },
  {
   "cell_type": "markdown",
   "metadata": {},
   "source": [
    "Con esto se puede evidenciar lo potente del método de Miller-Rabin comparado con los metodos convencionales."
   ]
  },
  {
   "cell_type": "code",
   "execution_count": 58,
   "metadata": {},
   "outputs": [],
   "source": [
    "N=20\n",
    "i_s=[]\n",
    "j_s=[]\n",
    "for i in range(1,N):\n",
    "    for j in range(i,N):\n",
    "        if new_is_prime(i**2 + j**2):\n",
    "            i_s.append(i)\n",
    "            j_s.append(j)\n",
    "i_s=np.array(i_s)\n",
    "j_s=np.array(j_s)"
   ]
  },
  {
   "cell_type": "code",
   "execution_count": 59,
   "metadata": {},
   "outputs": [
    {
     "data": {
      "image/png": "[encoded data removed]",
      "text/plain": [
       "<Figure size 432x288 with 1 Axes>"
      ]
     },
     "metadata": {
      "needs_background": "light"
     },
     "output_type": "display_data"
    }
   ],
   "source": [
    "for i,j in zip(i_s,j_s):\n",
    "        #Cuadrante 1 del plano\n",
    "        plt.scatter(i,j,color=\"k\",marker=\"s\")\n",
    "        plt.scatter(j,i,color=\"k\",marker=\"s\")\n",
    "        #Cuadrante 4 del plano\n",
    "        plt.scatter(i,-j,color=\"b\",marker=\"s\")\n",
    "        plt.scatter(j,-i,color=\"b\",marker=\"s\")\n",
    "        #Cuadrante 2 del plano\n",
    "        plt.scatter(-i,j,color=\"r\",marker=\"s\")\n",
    "        plt.scatter(-j,i,color=\"r\",marker=\"s\")\n",
    "        #Cuadrante 3 del plano\n",
    "        plt.scatter(-i,-j,color=\"g\",marker=\"s\")\n",
    "        plt.scatter(-j,-i,color=\"g\",marker=\"s\")\n",
    "plt.show()"
   ]
  },
  {
   "cell_type": "code",
   "execution_count": 57,
   "metadata": {},
   "outputs": [
    {
     "name": "stdout",
     "output_type": "stream",
     "text": [
      "[2, 5, 5, 13, 13, 17, 17, 29, 29, 37, 37, 41, 41, 53, 53, 61, 61, 73, 73, 89, 89, 97, 97, 113, 113]\n"
     ]
    }
   ],
   "source": [
    "a=[]\n",
    "for i in range(1,N):\n",
    "    for j in range(1,N):\n",
    "        if new_is_prime(i**2 + j**2):\n",
    "            a.append(i**2 + j**2)\n",
    "print(sorted(a))"
   ]
  },
  {
   "cell_type": "markdown",
   "metadata": {},
   "source": [
    "# Intentos del KATA"
   ]
  },
  {
   "cell_type": "code",
   "execution_count": null,
   "metadata": {},
   "outputs": [],
   "source": [
    "def new_get_prime_Factors(n):\n",
    "    #if type(n) is not int or n < 1:\n",
    "        # Not an integer, negative or 0\n",
    "     #   return []\n",
    "    if(n<3):\n",
    "        return [n]\n",
    "    factors=[]\n",
    "    if miller_rabin(n,50):\n",
    "        return [n]\n",
    "    while(n>1):\n",
    "        for i in range(2,n+1):\n",
    "            if miller_rabin(i,5) and not n % i:\n",
    "                n=int(n/i)\n",
    "                factors.append(i)\n",
    "                break\n",
    "    return factors\n",
    "def new_primeFactors(n):\n",
    "    f= new_get_prime_Factors(n)\n",
    "    factors = sorted(list(set(f)))\n",
    "    powers = [f.count(factor) for factor in factors]\n",
    "    result=\"\"\n",
    "    for i in range(len(factors)):\n",
    "        if powers[i]==1:\n",
    "            result+=\"(\"+str(factors[i])+\")\"\n",
    "        else:\n",
    "            result+=\"(\"+str(factors[i])+\"**\"+str(powers[i])+\")\"\n",
    "    return result"
   ]
  },
  {
   "cell_type": "code",
   "execution_count": 36,
   "metadata": {},
   "outputs": [
    {
     "name": "stdout",
     "output_type": "stream",
     "text": [
      "(2)(5**2)(7**2)(107)(381461)\n",
      "Tiempo tomado: 2.364825963973999\n"
     ]
    }
   ],
   "source": [
    "start=time.time()\n",
    "print(new_primeFactors(int(numeros_primos_lista[50])+1))\n",
    "end=time.time()\n",
    "print(\"Tiempo tomado:\",end-start)"
   ]
  },
  {
   "cell_type": "code",
   "execution_count": 37,
   "metadata": {},
   "outputs": [
    {
     "data": {
      "text/plain": [
       "'(100000000183)'"
      ]
     },
     "execution_count": 37,
     "metadata": {},
     "output_type": "execute_result"
    }
   ],
   "source": [
    "new_primeFactors(int(numeros_primos_lista[10]))"
   ]
  },
  {
   "cell_type": "code",
   "execution_count": 38,
   "metadata": {},
   "outputs": [],
   "source": [
    "def getAllPrimeFactors(n):\n",
    "    if n == 1:\n",
    "        return [1]\n",
    "\n",
    "    result = []\n",
    "    if isvalidparameter(n):\n",
    "        factor = 2\n",
    "        while n > 1:\n",
    "            while n % factor == 0:\n",
    "                n /= factor\n",
    "                result.append(factor)\n",
    "            factor += 1\n",
    "    return result\n",
    "\n",
    "\n",
    "def getUniquePrimeFactorsWithCount(n):\n",
    "    result = [[], []]\n",
    "    if isvalidparameter(n):\n",
    "        factors = getAllPrimeFactors(n)\n",
    "        for f in factors:\n",
    "            if f in result[0]:\n",
    "                result[1][-1] += 1\n",
    "            else:\n",
    "                result[0].append(f)\n",
    "                result[1].append(1)\n",
    "    return result\n",
    "\n",
    "\n",
    "def getUniquePrimeFactorsWithProducts(n):\n",
    "    result = []\n",
    "    if isvalidparameter(n):\n",
    "        factors = getUniquePrimeFactorsWithCount(n)\n",
    "        result = map(lambda x: x[0] ** x[1], zip(factors[0], factors[1]))\n",
    "    return result\n",
    "\n",
    "\n",
    "def isvalidparameter(n):\n",
    "    return isinstance(n, int) and n > 0"
   ]
  },
  {
   "cell_type": "code",
   "execution_count": 39,
   "metadata": {},
   "outputs": [],
   "source": [
    "def new_primeFactors(n):\n",
    "    f= getAllPrimeFactors(n)\n",
    "    factors = sorted(list(set(f)))\n",
    "    powers = [f.count(factor) for factor in factors]\n",
    "    result=\"\"\n",
    "    for i in range(len(factors)):\n",
    "        if powers[i]==1:\n",
    "            result+=\"(\"+str(factors[i])+\")\"\n",
    "        else:\n",
    "            result+=\"(\"+str(factors[i])+\"**\"+str(powers[i])+\")\"\n",
    "    return result"
   ]
  },
  {
   "cell_type": "code",
   "execution_count": 40,
   "metadata": {},
   "outputs": [],
   "source": [
    "def last_primeFactors(n):\n",
    "    ret = ''\n",
    "    for i in xrange(2, n + 1):\n",
    "        num = 0\n",
    "        while(n % i == 0):\n",
    "            num += 1\n",
    "            n /= i\n",
    "        if num > 0:\n",
    "            ret += '({}{})'.format(i, '**%d' % num if num > 1 else '')\n",
    "        if n == 1:\n",
    "            return ret"
   ]
  },
  {
   "cell_type": "code",
   "execution_count": 60,
   "metadata": {},
   "outputs": [],
   "source": [
    "def getAllPrimeFactors(n):\n",
    "    if n == 1:\n",
    "        return [1]\n",
    "    result = []\n",
    "    if isvalidparameter(n):\n",
    "        factor = 2\n",
    "        while n > 1:\n",
    "            while n % factor == 0:\n",
    "                n /= factor\n",
    "                result.append(factor)\n",
    "            factor += 1\n",
    "    return result\n",
    "def isvalidparameter(n):\n",
    "    return isinstance(n, int) and n > 0\n",
    "def my_primeFactors(n):\n",
    "    f=getAllPrimeFactors(n)\n",
    "    factors = sorted(list(set(f)))\n",
    "    powers = [f.count(factor) for factor in factors]\n",
    "    result=\"\"\n",
    "    for i in range(len(factors)):\n",
    "        result+=\"({}{})\".format(factors[i],\"**%d\" % powers[i] if powers[i]>1 else \"\")\n",
    "    return result"
   ]
  },
  {
   "cell_type": "code",
   "execution_count": 80,
   "metadata": {},
   "outputs": [
    {
     "data": {
      "text/plain": [
       "'(2)(3**3)(16333)(113381)'"
      ]
     },
     "execution_count": 80,
     "metadata": {},
     "output_type": "execute_result"
    }
   ],
   "source": [
    "my_primeFactors(100000001142)\n",
    "end=time.time()"
   ]
  },
  {
   "cell_type": "code",
   "execution_count": 78,
   "metadata": {},
   "outputs": [
    {
     "data": {
      "text/plain": [
       "False"
      ]
     },
     "execution_count": 78,
     "metadata": {},
     "output_type": "execute_result"
    }
   ],
   "source": [
    "numeros_primos_lista[50]\n",
    "miller_rabin(1000000011401,50)"
   ]
  },
  {
   "cell_type": "markdown",
   "metadata": {},
   "source": [
    "# Respuesta final del KATA"
   ]
  },
  {
   "cell_type": "code",
   "execution_count": 109,
   "metadata": {},
   "outputs": [],
   "source": [
    "def getAllPrimeFactors(n):\n",
    "    if n == 1:\n",
    "        return [1]\n",
    "    result = []\n",
    "    if isvalidparameter(n):\n",
    "        factor = 2\n",
    "        while n > 1:\n",
    "            #print(factor)\n",
    "            while n % factor == 0:\n",
    "                #print(\"divide por \",factor)\n",
    "                n /= factor\n",
    "                result.append(factor)\n",
    "            factor += 1\n",
    "    return result\n",
    "def isvalidparameter(n):\n",
    "    return isinstance(n, int) and n > 0\n",
    "def my_primeFactors(n):\n",
    "    f=getAllPrimeFactors(n)\n",
    "    factors = sorted(list(set(f)))\n",
    "    powers = [f.count(factor) for factor in factors]\n",
    "    result=\"\"\n",
    "    for i in range(len(factors)):\n",
    "        result+=\"({}{})\".format(factors[i],\"**%d\" % powers[i] if powers[i]>1 else \"\")\n",
    "    return result"
   ]
  },
  {
   "cell_type": "markdown",
   "metadata": {},
   "source": [
    "# Algoritmo de Pollard's Rho"
   ]
  },
  {
   "cell_type": "code",
   "execution_count": null,
   "metadata": {},
   "outputs": [],
   "source": [
    "def g(x,n):\n",
    "    return (x**2 +1)%n"
   ]
  },
  {
   "cell_type": "code",
   "execution_count": null,
   "metadata": {},
   "outputs": [],
   "source": [
    "n=777546031\n",
    "x=np.random.randint(2,n)\n",
    "y=np.random.randint(2,n)\n",
    "d=1\n",
    "while(d==1):\n",
    "    #print(x,y)\n",
    "    x= g(x,n)\n",
    "    y=g(g(y,n),n)\n",
    "    d=math.gcd(np.abs(x-y),n)\n",
    "print(d)"
   ]
  },
  {
   "cell_type": "code",
   "execution_count": null,
   "metadata": {},
   "outputs": [],
   "source": []
  },
  {
   "cell_type": "code",
   "execution_count": null,
   "metadata": {},
   "outputs": [],
   "source": []
  },
  {
   "cell_type": "code",
   "execution_count": null,
   "metadata": {},
   "outputs": [],
   "source": []
  },
  {
   "cell_type": "markdown",
   "metadata": {},
   "source": [
    "## Solución descomposición primera version"
   ]
  },
  {
   "cell_type": "code",
   "execution_count": null,
   "metadata": {},
   "outputs": [],
   "source": [
    "lista= list_of_primes(100000)"
   ]
  },
  {
   "cell_type": "code",
   "execution_count": null,
   "metadata": {},
   "outputs": [],
   "source": [
    "def primeFactors_first(n):\n",
    "    resto=n\n",
    "    continuar=True\n",
    "    val=[]\n",
    "    while(continuar):\n",
    "        for i in lista:\n",
    "            if resto%i==0:\n",
    "                resto=resto/i\n",
    "                val.append(i)\n",
    "                break        \n",
    "        if resto==1:\n",
    "            continuar=False\n",
    "    dicc=Counter(val)\n",
    "    result=\"\"\n",
    "    for i in sorted(dicc):\n",
    "        if dicc[i]==1:\n",
    "            result+=\"(\"+str(i)+\")\"\n",
    "        else:\n",
    "            result+=\"(\"+str(i)+\"**\"+str(dicc[i])+\")\"\n",
    "    return result"
   ]
  },
  {
   "cell_type": "code",
   "execution_count": null,
   "metadata": {},
   "outputs": [],
   "source": []
  }
 ],
 "metadata": {
  "kernelspec": {
   "display_name": "Python 3",
   "language": "python",
   "name": "python3"
  },
  "language_info": {
   "codemirror_mode": {
    "name": "ipython",
    "version": 3
   },
   "file_extension": ".py",
   "mimetype": "text/x-python",
   "name": "python",
   "nbconvert_exporter": "python",
   "pygments_lexer": "ipython3",
   "version": "3.6.7"
  }
 },
 "nbformat": 4,
 "nbformat_minor": 2
}
