{
 "cells": [
  {
   "cell_type": "markdown",
   "metadata": {},
   "source": [
    "# Encontrando números primos"
   ]
  },
  {
   "cell_type": "markdown",
   "metadata": {},
   "source": [
    "Encontrar numeros primos siempre ha representado un reto, pues aunque su definición parezca trivial, entre más grande sea un número $n$ mayor es el número de interaciones necesarias para poder comprobar si este número es o no un número primo. Primero recordamos que un número primo es un numero $n\\in \\mathbb{N} $ tál que $ \\forall\\  a \\in \\mathbb{N},\\ a\\in (1,n)$, $n/a \\not\\in \\mathbb{N}$\n",
    "\n",
    "Una forma trivial de atacar este problema es por inspección, para esto hacemos una función que pruebe pueda comprobar si un numero dado $n$ es primo o no."
   ]
  },
  {
   "cell_type": "code",
   "execution_count": 1,
   "metadata": {},
   "outputs": [],
   "source": [
    "import numpy as np\n",
    "import math\n",
    "import time\n",
    "from collections import Counter"
   ]
  },
  {
   "cell_type": "code",
   "execution_count": 2,
   "metadata": {},
   "outputs": [],
   "source": [
    "def basic_is_prime(n):\n",
    "    result=True\n",
    "    for i in range(2,n):\n",
    "        if n%i==0:\n",
    "            result = False\n",
    "    return result"
   ]
  },
  {
   "cell_type": "markdown",
   "metadata": {},
   "source": [
    "Esta función recibe un numero entero $n$ y revisa todos los números hasta $n-1$ buscando los posibles divisores de $n$ en el caso en el que ningún número divida a $n$ entre $2$ y $n-1$, se concluye entonces que $n$ es primo y por ende la función `basic_is_prime`retorna `True`.\n",
    "Ahora vamos a usar esta función para encontrar los primeros números primos entre $0$ y $50000$."
   ]
  },
  {
   "cell_type": "code",
   "execution_count": 3,
   "metadata": {},
   "outputs": [
    {
     "name": "stdout",
     "output_type": "stream",
     "text": [
      "Tiempo tomado: 91.24638080596924\n"
     ]
    }
   ],
   "source": [
    "start=time.time()\n",
    "lista_basic_prime=[]\n",
    "for i in range(2,50000):\n",
    "    if basic_is_prime(i):\n",
    "        lista_basic_prime.append(i)\n",
    "end=time.time()\n",
    "print(\"Tiempo tomado:\",end-start)"
   ]
  },
  {
   "cell_type": "markdown",
   "metadata": {},
   "source": [
    "Como se ve, esto es un algoritmo lento, si se quisiera determinar si un número grande es o no un número primo esto podría tardar demasiado, con lo cual nos lleva a considerar un algoritmo distinto para poder determinar si algún numero es primo o no.\n",
    "\n",
    "## Algoritmo mejorado\n",
    "\n",
    "suponga que $m=\\sqrt{n}$, entonces $m\\times m = n$. Ahora si $n$ no es un número primo entonces $n$ puede ser escrito como $a\\times b \\Rightarrow \\ m\\times m=a\\times b$. Observemos que si $m$ es un numero real, mientras que n,a y b son numeros naturales.\n",
    "\n",
    "Ahora tenemos 3 posibles casos:\n",
    "1. $a>m \\Rightarrow b<m$\n",
    "2. $a=m \\Rightarrow b=m$\n",
    "3. $a<m \\Rightarrow b>m$\n",
    "\n",
    "Para todos estos 3 casos, se tiene que $\\min (a,b)\\leq m$. Por ende $m$ será una cota para encontrar al menos un factor de $n$, lo cual resulta ser una condición suficiente para mostrar que $n$ no es primo."
   ]
  },
  {
   "cell_type": "code",
   "execution_count": 4,
   "metadata": {},
   "outputs": [],
   "source": [
    "def new_is_prime(n):\n",
    "    result=True\n",
    "    for i in range(2,int(np.sqrt(n)+1)):\n",
    "        if n%i==0:\n",
    "            result = False\n",
    "    return result"
   ]
  },
  {
   "cell_type": "code",
   "execution_count": 5,
   "metadata": {},
   "outputs": [
    {
     "name": "stdout",
     "output_type": "stream",
     "text": [
      "Tiempo tomado: 0.697455883026123\n"
     ]
    }
   ],
   "source": [
    "start=time.time()\n",
    "lista_new_prime=[]\n",
    "for i in range(2,50000):\n",
    "    if new_is_prime(i):\n",
    "        lista_new_prime.append(i)\n",
    "end=time.time()\n",
    "print(\"Tiempo tomado:\",end-start)"
   ]
  },
  {
   "cell_type": "markdown",
   "metadata": {},
   "source": [
    "Como se puede ver esto es un mejora significativa en el programa, sin embargo esto podría ser mejorado ligeramente más. Para esto se hace uso del hecho de que ningun número par puede ser un número primo, con lo cual la busqueda de puede hacerce de en los impares."
   ]
  },
  {
   "cell_type": "code",
   "execution_count": 6,
   "metadata": {},
   "outputs": [],
   "source": [
    "def list_of_primes(n):\n",
    "    lista=np.array([2])\n",
    "    for i in range(3,n+1,2):\n",
    "        if new_is_prime(i):\n",
    "            lista=np.append(lista,i)\n",
    "    return lista"
   ]
  },
  {
   "cell_type": "code",
   "execution_count": 7,
   "metadata": {},
   "outputs": [
    {
     "name": "stdout",
     "output_type": "stream",
     "text": [
      "Tiempo tomado: 0.34560537338256836\n"
     ]
    }
   ],
   "source": [
    "start=time.time()\n",
    "lista_new_prime_2=list_of_primes(50000)\n",
    "end=time.time()\n",
    "print(\"Tiempo tomado:\",end-start)"
   ]
  },
  {
   "cell_type": "code",
   "execution_count": 8,
   "metadata": {},
   "outputs": [
    {
     "data": {
      "text/plain": [
       "(5133, 5133, 5133)"
      ]
     },
     "execution_count": 8,
     "metadata": {},
     "output_type": "execute_result"
    }
   ],
   "source": [
    "len(lista_basic_prime),len(lista_new_prime),len(lista_new_prime_2)"
   ]
  },
  {
   "cell_type": "markdown",
   "metadata": {},
   "source": [
    "Una de las aplicaciones que tiene el encontrar los numeros primos es la descomposición de un número en factores primos, una forma de implementar esto se podría hacer de la siguiente forma: \n",
    "\n",
    "------ Sugerir como ejercicio ------\n"
   ]
  },
  {
   "cell_type": "code",
   "execution_count": 9,
   "metadata": {},
   "outputs": [],
   "source": [
    "lista= list_of_primes(100000)"
   ]
  },
  {
   "cell_type": "code",
   "execution_count": 14,
   "metadata": {},
   "outputs": [],
   "source": [
    "def get_prime_Factors(n):\n",
    "    if type(n) is not int or n < 1:\n",
    "        # Not an integer, negative or 0\n",
    "        return []\n",
    "    elif(n<3):\n",
    "        return [n]\n",
    "    factors=[]\n",
    "    if new_is_prime(n):\n",
    "        return [n]\n",
    "    while(n>1):\n",
    "        for i in range(2,n+1):\n",
    "            if new_is_prime(i) and not n % i:\n",
    "                n=int(n/i)\n",
    "                factors.append(i)\n",
    "                break\n",
    "    return factors"
   ]
  },
  {
   "cell_type": "code",
   "execution_count": 28,
   "metadata": {},
   "outputs": [],
   "source": [
    "def primeFactors(n):\n",
    "    f= get_prime_Factors(n)\n",
    "    factors = sorted(list(set(f)))\n",
    "    powers = [f.count(factor) for factor in factors]\n",
    "    result=\"\"\n",
    "    for i in range(len(factors)):\n",
    "        if powers[i]==1:\n",
    "            result+=\"(\"+str(factors[i])+\")\"\n",
    "        else:\n",
    "            result+=\"(\"+str(factors[i])+\"**\"+str(powers[i])+\")\"\n",
    "    return result"
   ]
  },
  {
   "cell_type": "code",
   "execution_count": 29,
   "metadata": {},
   "outputs": [
    {
     "data": {
      "text/plain": [
       "'(3**2)(13)(43)'"
      ]
     },
     "execution_count": 29,
     "metadata": {},
     "output_type": "execute_result"
    }
   ],
   "source": [
    "primeFactors(5031)"
   ]
  },
  {
   "cell_type": "code",
   "execution_count": null,
   "metadata": {},
   "outputs": [],
   "source": [
    "def primeFactors(n):\n",
    "    resto=n\n",
    "    continuar=True\n",
    "    val=[]\n",
    "    while(continuar):\n",
    "        for i in lista:\n",
    "            if resto%i==0:\n",
    "                resto=resto/i\n",
    "                val.append(i)\n",
    "                break        \n",
    "        if resto==1:\n",
    "            continuar=False\n",
    "    dicc=Counter(val)\n",
    "    result=\"\"\n",
    "    for i in sorted(dicc):\n",
    "        if dicc[i]==1:\n",
    "            result+=\"(\"+str(i)+\")\"\n",
    "        else:\n",
    "            result+=\"(\"+str(i)+\"**\"+str(dicc[i])+\")\"\n",
    "    return result"
   ]
  },
  {
   "cell_type": "markdown",
   "metadata": {},
   "source": [
    "Usemos la anterior función para calcular la descomposición en numeros primos de $512345021, 777546031$ y $7775460$"
   ]
  },
  {
   "cell_type": "code",
   "execution_count": 13,
   "metadata": {},
   "outputs": [
    {
     "name": "stdout",
     "output_type": "stream",
     "text": [
      "(512345021) (23567)(32993) (2**2)(3**3)(5)(7)(11**2)(17)\n"
     ]
    }
   ],
   "source": [
    "print(primeFactors(512345021),primeFactors(777546031),primeFactors(7775460))"
   ]
  },
  {
   "cell_type": "code",
   "execution_count": null,
   "metadata": {},
   "outputs": [],
   "source": []
  },
  {
   "cell_type": "code",
   "execution_count": 15,
   "metadata": {},
   "outputs": [],
   "source": [
    "def get_unique_prime_factors_with_count(n):\n",
    "    \"\"\"Get a list containing two lists: one with prime numbers appearing in the\n",
    "    decomposition and the other containing their respective power.\n",
    "    Keyword arguments:\n",
    "    n -- integer value to get the lists for\n",
    "    Return a list of two lists, e.g.: [[2,5],[2,2]].\n",
    "    \"\"\"\n",
    "    f = get_all_prime_factors(n)\n",
    "    factors = list(set(f))\n",
    "    powers = [f.count(factor) for factor in factors]\n",
    "    return [factors, powers]"
   ]
  },
  {
   "cell_type": "code",
   "execution_count": 15,
   "metadata": {},
   "outputs": [],
   "source": [
    "def get_unique_prime_factors_with_products(n):\n",
    "    \"\"\"Get a list of prime factors raised to the power of their respective\n",
    "    powers.\n",
    "    Keyword arguments:\n",
    "    n -- integer value to get the list for\n",
    "    Return a list, e.g.: [4,25].\n",
    "    \"\"\"\n",
    "    cf = get_unique_prime_factors_with_count(n)\n",
    "    return [factor**count for factor, count in zip(cf[0], cf[1])]"
   ]
  },
  {
   "cell_type": "code",
   "execution_count": 15,
   "metadata": {},
   "outputs": [
    {
     "data": {
      "text/plain": [
       "'(8051.2)'"
      ]
     },
     "execution_count": 15,
     "metadata": {},
     "output_type": "execute_result"
    }
   ],
   "source": [
    "def is_prime(n):\n",
    "    \"\"\"Check if given number is a prime number.\n",
    "    Keyword arguments:\n",
    "    n -- integer value to check if it is a prime number\n",
    "    Return True is the number is prime, otherwise False.\n",
    "    \"\"\"\n",
    "    for i in range(2, n):\n",
    "        if not n % i:\n",
    "            return False\n",
    "    return True"
   ]
  },
  {
   "cell_type": "code",
   "execution_count": 25,
   "metadata": {},
   "outputs": [
    {
     "name": "stdout",
     "output_type": "stream",
     "text": [
      "hola\n"
     ]
    }
   ],
   "source": [
    "if not 3%3:\n",
    "    print(\"hola\")"
   ]
  },
  {
   "cell_type": "markdown",
   "metadata": {},
   "source": [
    "# Algoritmo de Pollard's Rho"
   ]
  },
  {
   "cell_type": "code",
   "execution_count": 34,
   "metadata": {},
   "outputs": [],
   "source": [
    "def g(x,n):\n",
    "    return (x**2 +1)%n"
   ]
  },
  {
   "cell_type": "code",
   "execution_count": null,
   "metadata": {},
   "outputs": [],
   "source": [
    "n=777546031\n",
    "x=np.random.randint(2,n)\n",
    "y=np.random.randint(2,n)\n",
    "d=1\n",
    "while(d==1):\n",
    "    #print(x,y)\n",
    "    x= g(x,n)\n",
    "    y=g(g(y,n),n)\n",
    "    d=math.gcd(np.abs(x-y),n)\n",
    "print(d)"
   ]
  },
  {
   "cell_type": "code",
   "execution_count": 51,
   "metadata": {},
   "outputs": [
    {
     "data": {
      "text/plain": [
       "6984"
      ]
     },
     "execution_count": 51,
     "metadata": {},
     "output_type": "execute_result"
    }
   ],
   "source": []
  },
  {
   "cell_type": "code",
   "execution_count": null,
   "metadata": {},
   "outputs": [],
   "source": []
  },
  {
   "cell_type": "code",
   "execution_count": null,
   "metadata": {},
   "outputs": [],
   "source": []
  },
  {
   "cell_type": "markdown",
   "metadata": {},
   "source": [
    "[link para hacer el algoritmo de exponenciación](https://eli.thegreenplace.net/2009/03/28/efficient-modular-exponentiation-algorithms)"
   ]
  },
  {
   "cell_type": "code",
   "execution_count": null,
   "metadata": {},
   "outputs": [],
   "source": []
  }
 ],
 "metadata": {
  "kernelspec": {
   "display_name": "Python 3",
   "language": "python",
   "name": "python3"
  },
  "language_info": {
   "codemirror_mode": {
    "name": "ipython",
    "version": 3
   },
   "file_extension": ".py",
   "mimetype": "text/x-python",
   "name": "python",
   "nbconvert_exporter": "python",
   "pygments_lexer": "ipython3",
   "version": "3.6.7"
  }
 },
 "nbformat": 4,
 "nbformat_minor": 2
}
